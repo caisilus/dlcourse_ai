{
 "cells": [
  {
   "cell_type": "markdown",
   "source": [
    "# Задание 2.1 - Нейронные сети\n",
    "\n",
    "В этом задании вы реализуете и натренируете настоящую нейроную сеть своими руками!\n",
    "\n",
    "В некотором смысле это будет расширением прошлого задания - нам нужно просто составить несколько линейных классификаторов вместе!\n",
    "\n",
    "<img src=\"https://i.redd.it/n9fgba8b0qr01.png\" alt=\"Stack_more_layers\" width=\"400px\"/>"
   ],
   "metadata": {}
  },
  {
   "cell_type": "code",
   "execution_count": 1,
   "source": [
    "import numpy as np\n",
    "import matplotlib.pyplot as plt\n",
    "\n",
    "%matplotlib inline\n",
    "\n",
    "%load_ext autoreload\n",
    "%autoreload 2"
   ],
   "outputs": [],
   "metadata": {}
  },
  {
   "cell_type": "code",
   "execution_count": 2,
   "source": [
    "from dataset import load_svhn, random_split_train_val\n",
    "from gradient_check import check_layer_gradient, check_layer_param_gradient, check_model_gradient\n",
    "from layers import FullyConnectedLayer, ReLULayer\n",
    "from model import TwoLayerNet\n",
    "from trainer import Trainer, Dataset\n",
    "from optim import SGD, MomentumSGD\n",
    "from metrics import multiclass_accuracy"
   ],
   "outputs": [],
   "metadata": {}
  },
  {
   "cell_type": "markdown",
   "source": [
    "# Загружаем данные\n",
    "\n",
    "И разделяем их на training и validation."
   ],
   "metadata": {}
  },
  {
   "cell_type": "code",
   "execution_count": 3,
   "source": [
    "def prepare_for_neural_network(train_X, test_X):\n",
    "    train_flat = train_X.reshape(train_X.shape[0], -1).astype(np.float) / 255.0\n",
    "    test_flat = test_X.reshape(test_X.shape[0], -1).astype(np.float) / 255.0\n",
    "    \n",
    "    # Subtract mean\n",
    "    mean_image = np.mean(train_flat, axis = 0)\n",
    "    train_flat -= mean_image\n",
    "    test_flat -= mean_image\n",
    "    \n",
    "    return train_flat, test_flat\n",
    "    \n",
    "train_X, train_y, test_X, test_y = load_svhn(\"data\", max_train=10000, max_test=1000)    \n",
    "train_X, test_X = prepare_for_neural_network(train_X, test_X)\n",
    "# Split train into train and val\n",
    "train_X, train_y, val_X, val_y = random_split_train_val(train_X, train_y, num_val = 1000)"
   ],
   "outputs": [],
   "metadata": {}
  },
  {
   "cell_type": "markdown",
   "source": [
    "# Как всегда, начинаем с кирпичиков\n",
    "\n",
    "Мы будем реализовывать необходимые нам слои по очереди. Каждый слой должен реализовать:\n",
    "- прямой проход (forward pass), который генерирует выход слоя по входу и запоминает необходимые данные\n",
    "- обратный проход (backward pass), который получает градиент по выходу слоя и вычисляет градиент по входу и по параметрам\n",
    "\n",
    "Начнем с ReLU, у которого параметров нет."
   ],
   "metadata": {}
  },
  {
   "cell_type": "code",
   "execution_count": 4,
   "source": [
    "# Implement ReLULayer layer in layers.py\n",
    "# Note: you'll need to copy implementation of the gradient_check function from the previous assignment\n",
    "\n",
    "X = np.array([[1,-2,3],\n",
    "              [-1, 2, 0.1]\n",
    "              ])\n",
    "\n",
    "assert check_layer_gradient(ReLULayer(), X)"
   ],
   "outputs": [
    {
     "output_type": "stream",
     "name": "stdout",
     "text": [
      "Gradient check passed!\n"
     ]
    }
   ],
   "metadata": {
    "scrolled": false
   }
  },
  {
   "cell_type": "markdown",
   "source": [
    "А теперь реализуем полносвязный слой (fully connected layer), у которого будет два массива параметров: W (weights) и B (bias).\n",
    "\n",
    "Все параметры наши слои будут использовать для параметров специальный класс `Param`, в котором будут храниться значения параметров и градиенты этих параметров, вычисляемые во время обратного прохода.\n",
    "\n",
    "Это даст возможность аккумулировать (суммировать) градиенты из разных частей функции потерь, например, из cross-entropy loss и regularization loss."
   ],
   "metadata": {}
  },
  {
   "cell_type": "code",
   "execution_count": 5,
   "source": [
    "# TODO: Implement FullyConnected layer forward and backward methods\n",
    "assert check_layer_gradient(FullyConnectedLayer(3, 4), X)\n",
    "# TODO: Implement storing gradients for W and B\n",
    "assert check_layer_param_gradient(FullyConnectedLayer(3, 4), X, 'W')\n",
    "assert check_layer_param_gradient(FullyConnectedLayer(3, 4), X, 'B')"
   ],
   "outputs": [
    {
     "output_type": "stream",
     "name": "stdout",
     "text": [
      "Gradient check passed!\n",
      "Gradient check passed!\n",
      "Gradient check passed!\n"
     ]
    }
   ],
   "metadata": {}
  },
  {
   "cell_type": "markdown",
   "source": [
    "## Создаем нейронную сеть\n",
    "\n",
    "Теперь мы реализуем простейшую нейронную сеть с двумя полносвязным слоями и нелинейностью ReLU. Реализуйте функцию `compute_loss_and_gradients`, она должна запустить прямой и обратный проход через оба слоя для вычисления градиентов.\n",
    "\n",
    "Не забудьте реализовать очистку градиентов в начале функции."
   ],
   "metadata": {}
  },
  {
   "cell_type": "code",
   "execution_count": 8,
   "source": [
    "# TODO: In model.py, implement compute_loss_and_gradients function\n",
    "model = TwoLayerNet(n_input = train_X.shape[1], n_output = 10, hidden_layer_size = 3, reg = 0)\n",
    "loss = model.compute_loss_and_gradients(train_X[:2], train_y[:2])\n",
    "\n",
    "# TODO Now implement backward pass and aggregate all of the params\n",
    "check_model_gradient(model, train_X[:2], train_y[:2])"
   ],
   "outputs": [
    {
     "output_type": "stream",
     "name": "stdout",
     "text": [
      "Checking gradient for W1\n",
      "Gradient check passed!\n",
      "Checking gradient for B1\n",
      "Gradient check passed!\n",
      "Checking gradient for W2\n",
      "Gradient check passed!\n",
      "Checking gradient for B2\n",
      "Gradient check passed!\n"
     ]
    },
    {
     "output_type": "execute_result",
     "data": {
      "text/plain": [
       "True"
      ]
     },
     "metadata": {},
     "execution_count": 8
    }
   ],
   "metadata": {}
  },
  {
   "cell_type": "markdown",
   "source": [
    "Теперь добавьте к модели регуляризацию - она должна прибавляться к loss и делать свой вклад в градиенты."
   ],
   "metadata": {}
  },
  {
   "cell_type": "code",
   "execution_count": 174,
   "source": [
    "# TODO Now implement l2 regularization in the forward and backward pass\n",
    "model_with_reg = TwoLayerNet(n_input = train_X.shape[1], n_output = 10, hidden_layer_size = 3, reg = 1e1)\n",
    "loss_with_reg = model_with_reg.compute_loss_and_gradients(train_X[:2], train_y[:2])\n",
    "assert loss_with_reg > loss and not np.isclose(loss_with_reg, loss), \\\n",
    "    \"Loss with regularization (%2.4f) should be higher than without it (%2.4f)!\" % (loss, loss_with_reg)\n",
    "\n",
    "check_model_gradient(model_with_reg, train_X[:2], train_y[:2])"
   ],
   "outputs": [
    {
     "output_type": "stream",
     "name": "stdout",
     "text": [
      "Checking gradient for W1\n",
      "Gradient check passed!\n",
      "Checking gradient for B1\n",
      "Gradient check passed!\n",
      "Checking gradient for W2\n",
      "Gradient check passed!\n",
      "Checking gradient for B2\n",
      "Gradient check passed!\n"
     ]
    },
    {
     "output_type": "execute_result",
     "data": {
      "text/plain": [
       "True"
      ]
     },
     "metadata": {},
     "execution_count": 174
    }
   ],
   "metadata": {}
  },
  {
   "cell_type": "markdown",
   "source": [
    "Также реализуем функцию предсказания (вычисления значения) модели на новых данных.\n",
    "\n",
    "Какое значение точности мы ожидаем увидеть до начала тренировки?"
   ],
   "metadata": {}
  },
  {
   "cell_type": "code",
   "execution_count": 10,
   "source": [
    "# Finally, implement predict function!\n",
    "\n",
    "# Implement predict function\n",
    "# What would be the value we expect?\n",
    "multiclass_accuracy(model_with_reg.predict(train_X[:30]), train_y[:30]) "
   ],
   "outputs": [
    {
     "output_type": "execute_result",
     "data": {
      "text/plain": [
       "0.03333333333333333"
      ]
     },
     "metadata": {},
     "execution_count": 10
    }
   ],
   "metadata": {}
  },
  {
   "cell_type": "markdown",
   "source": [
    "# Допишем код для процесса тренировки\n",
    "\n",
    "Если все реализовано корректно, значение функции ошибки должно уменьшаться с каждой эпохой, пусть и медленно. Не беспокойтесь пока про validation accuracy."
   ],
   "metadata": {}
  },
  {
   "cell_type": "code",
   "execution_count": 11,
   "source": [
    "model = TwoLayerNet(n_input = train_X.shape[1], n_output = 10, hidden_layer_size = 100, reg = 1e1)\n",
    "dataset = Dataset(train_X, train_y, val_X, val_y)\n",
    "trainer = Trainer(model, dataset, SGD(), learning_rate = 1e-2)\n",
    "\n",
    "# Implement missing pieces in Trainer.fit function\n",
    "# You should expect loss to go down every epoch, even if it's slow\n",
    "loss_history, train_history, val_history = trainer.fit()"
   ],
   "outputs": [
    {
     "output_type": "stream",
     "name": "stdout",
     "text": [
      "Loss: 2.302818, Train accuracy: 0.196667, val accuracy: 0.206000\n",
      "Loss: 2.302876, Train accuracy: 0.196667, val accuracy: 0.206000\n",
      "Loss: 2.302674, Train accuracy: 0.148222, val accuracy: 0.140000\n",
      "Loss: 2.303106, Train accuracy: 0.196667, val accuracy: 0.206000\n",
      "Loss: 2.302997, Train accuracy: 0.196667, val accuracy: 0.206000\n",
      "Loss: 2.302942, Train accuracy: 0.196667, val accuracy: 0.206000\n",
      "Loss: 2.302113, Train accuracy: 0.196667, val accuracy: 0.206000\n",
      "Loss: 2.301814, Train accuracy: 0.196667, val accuracy: 0.206000\n",
      "Loss: 2.303081, Train accuracy: 0.196667, val accuracy: 0.206000\n",
      "Loss: 2.303213, Train accuracy: 0.196667, val accuracy: 0.206000\n",
      "Loss: 2.302050, Train accuracy: 0.148222, val accuracy: 0.140000\n",
      "Loss: 2.303035, Train accuracy: 0.196667, val accuracy: 0.206000\n",
      "Loss: 2.302030, Train accuracy: 0.196667, val accuracy: 0.206000\n",
      "Loss: 2.301012, Train accuracy: 0.196667, val accuracy: 0.206000\n",
      "Loss: 2.301808, Train accuracy: 0.196667, val accuracy: 0.206000\n",
      "Loss: 2.301886, Train accuracy: 0.196667, val accuracy: 0.206000\n",
      "Loss: 2.301887, Train accuracy: 0.196667, val accuracy: 0.206000\n",
      "Loss: 2.301971, Train accuracy: 0.196667, val accuracy: 0.206000\n",
      "Loss: 2.302480, Train accuracy: 0.196667, val accuracy: 0.206000\n",
      "Loss: 2.302243, Train accuracy: 0.196667, val accuracy: 0.206000\n"
     ]
    }
   ],
   "metadata": {}
  },
  {
   "cell_type": "code",
   "execution_count": 12,
   "source": [
    "plt.plot(train_history)\n",
    "plt.plot(val_history)"
   ],
   "outputs": [
    {
     "output_type": "execute_result",
     "data": {
      "text/plain": [
       "[<matplotlib.lines.Line2D at 0x7fb44431ad30>]"
      ]
     },
     "metadata": {},
     "execution_count": 12
    },
    {
     "output_type": "display_data",
     "data": {
      "text/plain": [
       "<Figure size 432x288 with 1 Axes>"
      ],
      "image/png": "[encoded data removed]"
     },
     "metadata": {
      "needs_background": "light"
     }
    }
   ],
   "metadata": {}
  },
  {
   "cell_type": "markdown",
   "source": [
    "# Улучшаем процесс тренировки\n",
    "\n",
    "Мы реализуем несколько ключевых оптимизаций, необходимых для тренировки современных нейросетей."
   ],
   "metadata": {}
  },
  {
   "cell_type": "markdown",
   "source": [
    "## Уменьшение скорости обучения (learning rate decay)\n",
    "\n",
    "Одна из необходимых оптимизаций во время тренировки нейронных сетей - постепенное уменьшение скорости обучения по мере тренировки.\n",
    "\n",
    "Один из стандартных методов - уменьшение скорости обучения (learning rate) каждые N эпох на коэффициент d (часто называемый decay). Значения N и d, как всегда, являются гиперпараметрами и должны подбираться на основе эффективности на проверочных данных (validation data). \n",
    "\n",
    "В нашем случае N будет равным 1."
   ],
   "metadata": {}
  },
  {
   "cell_type": "code",
   "execution_count": 13,
   "source": [
    "# TODO Implement learning rate decay inside Trainer.fit method\n",
    "# Decay should happen once per epoch\n",
    "\n",
    "model = TwoLayerNet(n_input = train_X.shape[1], n_output = 10, hidden_layer_size = 100, reg = 1e-1)\n",
    "dataset = Dataset(train_X, train_y, val_X, val_y)\n",
    "trainer = Trainer(model, dataset, SGD(), learning_rate_decay=0.99)\n",
    "\n",
    "initial_learning_rate = trainer.learning_rate\n",
    "loss_history, train_history, val_history = trainer.fit()\n",
    "\n",
    "assert trainer.learning_rate < initial_learning_rate, \"Learning rate should've been reduced\"\n",
    "assert trainer.learning_rate > 0.5*initial_learning_rate, \"Learning rate shouldn'tve been reduced that much!\""
   ],
   "outputs": [
    {
     "output_type": "stream",
     "name": "stdout",
     "text": [
      "Loss: 2.294643, Train accuracy: 0.196667, val accuracy: 0.206000\n",
      "Loss: 2.281271, Train accuracy: 0.196667, val accuracy: 0.206000\n",
      "Loss: 2.272735, Train accuracy: 0.196667, val accuracy: 0.206000\n",
      "Loss: 2.319643, Train accuracy: 0.196667, val accuracy: 0.206000\n",
      "Loss: 2.247048, Train accuracy: 0.196667, val accuracy: 0.206000\n",
      "Loss: 2.311450, Train accuracy: 0.196667, val accuracy: 0.206000\n",
      "Loss: 2.255260, Train accuracy: 0.196667, val accuracy: 0.206000\n",
      "Loss: 2.290226, Train accuracy: 0.196667, val accuracy: 0.206000\n",
      "Loss: 2.326863, Train accuracy: 0.196667, val accuracy: 0.206000\n",
      "Loss: 2.298314, Train accuracy: 0.196667, val accuracy: 0.206000\n",
      "Loss: 2.239434, Train accuracy: 0.196667, val accuracy: 0.206000\n",
      "Loss: 2.320730, Train accuracy: 0.196667, val accuracy: 0.206000\n",
      "Loss: 2.231481, Train accuracy: 0.196667, val accuracy: 0.206000\n",
      "Loss: 2.227042, Train accuracy: 0.196667, val accuracy: 0.206000\n",
      "Loss: 2.227572, Train accuracy: 0.196667, val accuracy: 0.206000\n",
      "Loss: 2.270330, Train accuracy: 0.196667, val accuracy: 0.206000\n",
      "Loss: 2.248192, Train accuracy: 0.196667, val accuracy: 0.206000\n",
      "Loss: 2.313223, Train accuracy: 0.196667, val accuracy: 0.206000\n",
      "Loss: 2.298704, Train accuracy: 0.196667, val accuracy: 0.206000\n",
      "Loss: 2.238037, Train accuracy: 0.196667, val accuracy: 0.206000\n"
     ]
    }
   ],
   "metadata": {}
  },
  {
   "cell_type": "markdown",
   "source": [
    "# Накопление импульса (Momentum SGD)\n",
    "\n",
    "Другой большой класс оптимизаций - использование более эффективных методов градиентного спуска. Мы реализуем один из них - накопление импульса (Momentum SGD).\n",
    "\n",
    "Этот метод хранит скорость движения, использует градиент для ее изменения на каждом шаге, и изменяет веса пропорционально значению скорости.\n",
    "(Физическая аналогия: Вместо скорости градиенты теперь будут задавать ускорение, но будет присутствовать сила трения.)\n",
    "\n",
    "```\n",
    "velocity = momentum * velocity - learning_rate * gradient \n",
    "w = w + velocity\n",
    "```\n",
    "\n",
    "`momentum` здесь коэффициент затухания, который тоже является гиперпараметром (к счастью, для него часто есть хорошее значение по умолчанию, типичный диапазон -- 0.8-0.99).\n",
    "\n",
    "Несколько полезных ссылок, где метод разбирается более подробно:  \n",
    "http://cs231n.github.io/neural-networks-3/#sgd  \n",
    "https://distill.pub/2017/momentum/"
   ],
   "metadata": {}
  },
  {
   "cell_type": "code",
   "execution_count": 14,
   "source": [
    "# TODO: Implement MomentumSGD.update function in optim.py\n",
    "\n",
    "model = TwoLayerNet(n_input = train_X.shape[1], n_output = 10, hidden_layer_size = 100, reg = 1e-1)\n",
    "dataset = Dataset(train_X, train_y, val_X, val_y)\n",
    "trainer = Trainer(model, dataset, MomentumSGD(), learning_rate=1e-4, learning_rate_decay=0.99)\n",
    "\n",
    "# You should see even better results than before!\n",
    "loss_history, train_history, val_history = trainer.fit()"
   ],
   "outputs": [
    {
     "output_type": "stream",
     "name": "stdout",
     "text": [
      "Loss: 2.316196, Train accuracy: 0.196667, val accuracy: 0.206000\n",
      "Loss: 2.304917, Train accuracy: 0.196667, val accuracy: 0.206000\n",
      "Loss: 2.299952, Train accuracy: 0.196667, val accuracy: 0.206000\n",
      "Loss: 2.299348, Train accuracy: 0.196667, val accuracy: 0.206000\n",
      "Loss: 2.315716, Train accuracy: 0.196667, val accuracy: 0.206000\n",
      "Loss: 2.278909, Train accuracy: 0.196667, val accuracy: 0.206000\n",
      "Loss: 2.307879, Train accuracy: 0.196667, val accuracy: 0.206000\n",
      "Loss: 2.312001, Train accuracy: 0.196667, val accuracy: 0.206000\n",
      "Loss: 2.266352, Train accuracy: 0.196667, val accuracy: 0.206000\n",
      "Loss: 2.288067, Train accuracy: 0.196667, val accuracy: 0.206000\n",
      "Loss: 2.266375, Train accuracy: 0.196667, val accuracy: 0.206000\n",
      "Loss: 2.277462, Train accuracy: 0.196667, val accuracy: 0.206000\n",
      "Loss: 2.272375, Train accuracy: 0.196667, val accuracy: 0.206000\n",
      "Loss: 2.366606, Train accuracy: 0.196667, val accuracy: 0.206000\n",
      "Loss: 2.241895, Train accuracy: 0.196667, val accuracy: 0.206000\n",
      "Loss: 2.257786, Train accuracy: 0.196667, val accuracy: 0.206000\n",
      "Loss: 2.222005, Train accuracy: 0.196667, val accuracy: 0.206000\n",
      "Loss: 2.271760, Train accuracy: 0.196667, val accuracy: 0.206000\n",
      "Loss: 2.279992, Train accuracy: 0.196667, val accuracy: 0.206000\n",
      "Loss: 2.293112, Train accuracy: 0.196667, val accuracy: 0.206000\n"
     ]
    }
   ],
   "metadata": {}
  },
  {
   "cell_type": "markdown",
   "source": [
    "# Ну что, давайте уже тренировать сеть!"
   ],
   "metadata": {}
  },
  {
   "cell_type": "markdown",
   "source": [
    "## Последний тест - переобучимся (overfit) на маленьком наборе данных\n",
    "\n",
    "Хороший способ проверить, все ли реализовано корректно - переобучить сеть на маленьком наборе данных.  \n",
    "Наша модель обладает достаточной мощностью, чтобы приблизить маленький набор данных идеально, поэтому мы ожидаем, что на нем мы быстро дойдем до 100% точности на тренировочном наборе. \n",
    "\n",
    "Если этого не происходит, то где-то была допущена ошибка!"
   ],
   "metadata": {}
  },
  {
   "cell_type": "code",
   "execution_count": 24,
   "source": [
    "data_size = 15\n",
    "model = TwoLayerNet(n_input = train_X.shape[1], n_output = 10, hidden_layer_size = 100, reg = 1e-1)\n",
    "dataset = Dataset(train_X[:data_size], train_y[:data_size], val_X[:data_size], val_y[:data_size])\n",
    "trainer = Trainer(model, dataset, SGD(), learning_rate=1e-1, num_epochs=150, batch_size=5)\n",
    "\n",
    "# You should expect this to reach 1.0 training accuracy \n",
    "loss_history, train_history, val_history = trainer.fit()"
   ],
   "outputs": [
    {
     "output_type": "stream",
     "name": "stdout",
     "text": [
      "Loss: 2.335579, Train accuracy: 0.200000, val accuracy: 0.066667\n",
      "Loss: 2.312505, Train accuracy: 0.200000, val accuracy: 0.066667\n",
      "Loss: 2.315507, Train accuracy: 0.200000, val accuracy: 0.066667\n",
      "Loss: 2.282702, Train accuracy: 0.200000, val accuracy: 0.066667\n",
      "Loss: 2.275784, Train accuracy: 0.200000, val accuracy: 0.133333\n",
      "Loss: 2.290783, Train accuracy: 0.200000, val accuracy: 0.133333\n",
      "Loss: 2.291009, Train accuracy: 0.200000, val accuracy: 0.133333\n",
      "Loss: 2.288505, Train accuracy: 0.200000, val accuracy: 0.133333\n",
      "Loss: 2.280103, Train accuracy: 0.200000, val accuracy: 0.133333\n",
      "Loss: 2.306637, Train accuracy: 0.200000, val accuracy: 0.133333\n",
      "Loss: 2.255052, Train accuracy: 0.200000, val accuracy: 0.133333\n",
      "Loss: 2.221433, Train accuracy: 0.200000, val accuracy: 0.133333\n",
      "Loss: 2.189231, Train accuracy: 0.266667, val accuracy: 0.133333\n",
      "Loss: 2.251921, Train accuracy: 0.266667, val accuracy: 0.133333\n",
      "Loss: 2.219753, Train accuracy: 0.333333, val accuracy: 0.133333\n",
      "Loss: 2.092638, Train accuracy: 0.333333, val accuracy: 0.133333\n",
      "Loss: 1.917732, Train accuracy: 0.400000, val accuracy: 0.066667\n",
      "Loss: 2.388339, Train accuracy: 0.400000, val accuracy: 0.066667\n",
      "Loss: 2.027884, Train accuracy: 0.400000, val accuracy: 0.066667\n",
      "Loss: 1.679870, Train accuracy: 0.400000, val accuracy: 0.000000\n",
      "Loss: 2.005631, Train accuracy: 0.400000, val accuracy: 0.000000\n",
      "Loss: 2.194052, Train accuracy: 0.400000, val accuracy: 0.000000\n",
      "Loss: 1.910988, Train accuracy: 0.400000, val accuracy: 0.000000\n",
      "Loss: 1.679748, Train accuracy: 0.400000, val accuracy: 0.000000\n",
      "Loss: 1.936652, Train accuracy: 0.400000, val accuracy: 0.000000\n",
      "Loss: 1.867470, Train accuracy: 0.466667, val accuracy: 0.133333\n",
      "Loss: 1.741508, Train accuracy: 0.400000, val accuracy: 0.000000\n",
      "Loss: 1.849014, Train accuracy: 0.400000, val accuracy: 0.066667\n",
      "Loss: 2.056011, Train accuracy: 0.400000, val accuracy: 0.066667\n",
      "Loss: 2.023235, Train accuracy: 0.400000, val accuracy: 0.000000\n",
      "Loss: 2.288358, Train accuracy: 0.400000, val accuracy: 0.066667\n",
      "Loss: 2.586059, Train accuracy: 0.466667, val accuracy: 0.066667\n",
      "Loss: 2.266537, Train accuracy: 0.533333, val accuracy: 0.066667\n",
      "Loss: 1.810198, Train accuracy: 0.466667, val accuracy: 0.066667\n",
      "Loss: 1.810144, Train accuracy: 0.466667, val accuracy: 0.066667\n",
      "Loss: 1.911385, Train accuracy: 0.466667, val accuracy: 0.066667\n",
      "Loss: 1.675682, Train accuracy: 0.600000, val accuracy: 0.066667\n",
      "Loss: 2.109397, Train accuracy: 0.466667, val accuracy: 0.000000\n",
      "Loss: 1.957805, Train accuracy: 0.533333, val accuracy: 0.133333\n",
      "Loss: 2.179085, Train accuracy: 0.600000, val accuracy: 0.133333\n",
      "Loss: 2.171353, Train accuracy: 0.600000, val accuracy: 0.066667\n",
      "Loss: 2.096808, Train accuracy: 0.600000, val accuracy: 0.000000\n",
      "Loss: 1.921453, Train accuracy: 0.600000, val accuracy: 0.000000\n",
      "Loss: 1.837988, Train accuracy: 0.600000, val accuracy: 0.000000\n",
      "Loss: 1.681788, Train accuracy: 0.600000, val accuracy: 0.000000\n",
      "Loss: 1.402792, Train accuracy: 0.600000, val accuracy: 0.000000\n",
      "Loss: 1.181597, Train accuracy: 0.600000, val accuracy: 0.000000\n",
      "Loss: 1.599172, Train accuracy: 0.600000, val accuracy: 0.000000\n",
      "Loss: 1.619125, Train accuracy: 0.600000, val accuracy: 0.000000\n",
      "Loss: 2.204920, Train accuracy: 0.600000, val accuracy: 0.000000\n",
      "Loss: 1.542725, Train accuracy: 0.533333, val accuracy: 0.000000\n",
      "Loss: 1.788877, Train accuracy: 0.600000, val accuracy: 0.066667\n",
      "Loss: 1.768248, Train accuracy: 0.600000, val accuracy: 0.000000\n",
      "Loss: 1.131588, Train accuracy: 0.600000, val accuracy: 0.000000\n",
      "Loss: 1.504474, Train accuracy: 0.600000, val accuracy: 0.066667\n",
      "Loss: 1.165606, Train accuracy: 0.666667, val accuracy: 0.000000\n",
      "Loss: 1.496373, Train accuracy: 0.666667, val accuracy: 0.066667\n",
      "Loss: 1.462613, Train accuracy: 0.600000, val accuracy: 0.000000\n",
      "Loss: 1.337065, Train accuracy: 0.600000, val accuracy: 0.000000\n",
      "Loss: 1.500900, Train accuracy: 0.600000, val accuracy: 0.000000\n",
      "Loss: 1.979506, Train accuracy: 0.600000, val accuracy: 0.000000\n",
      "Loss: 1.500174, Train accuracy: 0.600000, val accuracy: 0.000000\n",
      "Loss: 1.479012, Train accuracy: 0.600000, val accuracy: 0.000000\n",
      "Loss: 1.179180, Train accuracy: 0.600000, val accuracy: 0.000000\n",
      "Loss: 1.536229, Train accuracy: 0.600000, val accuracy: 0.000000\n",
      "Loss: 2.204949, Train accuracy: 0.600000, val accuracy: 0.000000\n",
      "Loss: 1.853473, Train accuracy: 0.600000, val accuracy: 0.000000\n",
      "Loss: 1.379206, Train accuracy: 0.666667, val accuracy: 0.000000\n",
      "Loss: 2.163918, Train accuracy: 0.666667, val accuracy: 0.000000\n",
      "Loss: 1.006078, Train accuracy: 0.666667, val accuracy: 0.000000\n",
      "Loss: 1.899939, Train accuracy: 0.666667, val accuracy: 0.000000\n",
      "Loss: 1.675741, Train accuracy: 0.800000, val accuracy: 0.000000\n",
      "Loss: 1.997232, Train accuracy: 0.800000, val accuracy: 0.000000\n",
      "Loss: 1.469356, Train accuracy: 0.800000, val accuracy: 0.000000\n",
      "Loss: 0.922746, Train accuracy: 0.733333, val accuracy: 0.000000\n",
      "Loss: 1.482659, Train accuracy: 0.800000, val accuracy: 0.000000\n",
      "Loss: 2.051217, Train accuracy: 0.800000, val accuracy: 0.000000\n",
      "Loss: 1.740951, Train accuracy: 0.800000, val accuracy: 0.000000\n",
      "Loss: 2.116894, Train accuracy: 0.800000, val accuracy: 0.000000\n",
      "Loss: 1.308045, Train accuracy: 0.800000, val accuracy: 0.000000\n",
      "Loss: 1.530912, Train accuracy: 0.800000, val accuracy: 0.000000\n",
      "Loss: 1.454826, Train accuracy: 0.800000, val accuracy: 0.000000\n",
      "Loss: 1.212918, Train accuracy: 0.800000, val accuracy: 0.000000\n",
      "Loss: 1.674874, Train accuracy: 0.800000, val accuracy: 0.000000\n",
      "Loss: 1.248335, Train accuracy: 0.800000, val accuracy: 0.000000\n",
      "Loss: 1.239966, Train accuracy: 0.800000, val accuracy: 0.000000\n",
      "Loss: 1.510708, Train accuracy: 0.800000, val accuracy: 0.000000\n",
      "Loss: 2.062478, Train accuracy: 0.800000, val accuracy: 0.000000\n",
      "Loss: 1.390350, Train accuracy: 0.800000, val accuracy: 0.000000\n",
      "Loss: 1.438015, Train accuracy: 0.733333, val accuracy: 0.000000\n",
      "Loss: 1.402804, Train accuracy: 0.800000, val accuracy: 0.000000\n",
      "Loss: 1.294122, Train accuracy: 0.800000, val accuracy: 0.000000\n",
      "Loss: 1.494098, Train accuracy: 0.800000, val accuracy: 0.000000\n",
      "Loss: 1.535729, Train accuracy: 0.800000, val accuracy: 0.000000\n",
      "Loss: 1.307064, Train accuracy: 0.800000, val accuracy: 0.000000\n",
      "Loss: 1.302921, Train accuracy: 0.800000, val accuracy: 0.000000\n",
      "Loss: 1.316791, Train accuracy: 0.800000, val accuracy: 0.066667\n",
      "Loss: 1.267232, Train accuracy: 0.800000, val accuracy: 0.000000\n",
      "Loss: 1.318384, Train accuracy: 0.800000, val accuracy: 0.000000\n",
      "Loss: 1.232306, Train accuracy: 0.800000, val accuracy: 0.000000\n",
      "Loss: 1.704239, Train accuracy: 0.800000, val accuracy: 0.000000\n",
      "Loss: 1.974377, Train accuracy: 0.800000, val accuracy: 0.066667\n",
      "Loss: 1.370444, Train accuracy: 0.800000, val accuracy: 0.000000\n",
      "Loss: 1.340110, Train accuracy: 0.800000, val accuracy: 0.000000\n",
      "Loss: 1.449297, Train accuracy: 0.800000, val accuracy: 0.000000\n",
      "Loss: 1.518444, Train accuracy: 0.800000, val accuracy: 0.000000\n",
      "Loss: 1.503934, Train accuracy: 0.800000, val accuracy: 0.000000\n",
      "Loss: 1.408474, Train accuracy: 0.800000, val accuracy: 0.000000\n",
      "Loss: 1.903088, Train accuracy: 0.800000, val accuracy: 0.066667\n",
      "Loss: 1.381055, Train accuracy: 0.800000, val accuracy: 0.000000\n",
      "Loss: 1.050767, Train accuracy: 0.800000, val accuracy: 0.000000\n",
      "Loss: 1.561283, Train accuracy: 0.800000, val accuracy: 0.066667\n",
      "Loss: 1.156097, Train accuracy: 0.800000, val accuracy: 0.000000\n",
      "Loss: 1.342748, Train accuracy: 0.800000, val accuracy: 0.000000\n",
      "Loss: 1.751104, Train accuracy: 0.866667, val accuracy: 0.000000\n",
      "Loss: 1.122233, Train accuracy: 0.866667, val accuracy: 0.000000\n",
      "Loss: 1.692178, Train accuracy: 0.866667, val accuracy: 0.000000\n",
      "Loss: 1.057979, Train accuracy: 0.933333, val accuracy: 0.066667\n",
      "Loss: 1.936329, Train accuracy: 0.933333, val accuracy: 0.000000\n",
      "Loss: 1.449803, Train accuracy: 0.866667, val accuracy: 0.000000\n",
      "Loss: 1.458248, Train accuracy: 0.933333, val accuracy: 0.066667\n",
      "Loss: 1.316433, Train accuracy: 0.866667, val accuracy: 0.000000\n",
      "Loss: 1.001643, Train accuracy: 0.866667, val accuracy: 0.000000\n",
      "Loss: 0.999901, Train accuracy: 0.866667, val accuracy: 0.000000\n",
      "Loss: 1.760175, Train accuracy: 0.933333, val accuracy: 0.000000\n",
      "Loss: 1.773862, Train accuracy: 1.000000, val accuracy: 0.000000\n",
      "Loss: 1.340000, Train accuracy: 0.866667, val accuracy: 0.000000\n",
      "Loss: 1.463846, Train accuracy: 1.000000, val accuracy: 0.000000\n",
      "Loss: 1.515814, Train accuracy: 1.000000, val accuracy: 0.000000\n",
      "Loss: 1.306226, Train accuracy: 1.000000, val accuracy: 0.000000\n",
      "Loss: 1.596863, Train accuracy: 1.000000, val accuracy: 0.000000\n",
      "Loss: 0.913023, Train accuracy: 1.000000, val accuracy: 0.000000\n",
      "Loss: 1.205057, Train accuracy: 1.000000, val accuracy: 0.000000\n",
      "Loss: 1.396193, Train accuracy: 1.000000, val accuracy: 0.000000\n",
      "Loss: 1.303152, Train accuracy: 1.000000, val accuracy: 0.000000\n",
      "Loss: 1.410603, Train accuracy: 1.000000, val accuracy: 0.000000\n",
      "Loss: 1.353884, Train accuracy: 0.933333, val accuracy: 0.000000\n",
      "Loss: 1.104187, Train accuracy: 1.000000, val accuracy: 0.000000\n",
      "Loss: 1.423325, Train accuracy: 1.000000, val accuracy: 0.000000\n",
      "Loss: 1.051270, Train accuracy: 1.000000, val accuracy: 0.000000\n",
      "Loss: 1.362280, Train accuracy: 1.000000, val accuracy: 0.000000\n",
      "Loss: 1.605330, Train accuracy: 1.000000, val accuracy: 0.000000\n",
      "Loss: 1.185560, Train accuracy: 1.000000, val accuracy: 0.000000\n",
      "Loss: 1.292022, Train accuracy: 1.000000, val accuracy: 0.000000\n",
      "Loss: 1.309420, Train accuracy: 1.000000, val accuracy: 0.000000\n",
      "Loss: 1.420019, Train accuracy: 1.000000, val accuracy: 0.000000\n",
      "Loss: 1.483893, Train accuracy: 1.000000, val accuracy: 0.000000\n",
      "Loss: 1.467723, Train accuracy: 1.000000, val accuracy: 0.000000\n",
      "Loss: 1.615929, Train accuracy: 1.000000, val accuracy: 0.000000\n",
      "Loss: 1.580595, Train accuracy: 1.000000, val accuracy: 0.000000\n"
     ]
    }
   ],
   "metadata": {}
  },
  {
   "cell_type": "markdown",
   "source": [
    "Теперь найдем гипепараметры, для которых этот процесс сходится быстрее.\n",
    "Если все реализовано корректно, то существуют параметры, при которых процесс сходится в **20** эпох или еще быстрее.\n",
    "Найдите их!"
   ],
   "metadata": {}
  },
  {
   "cell_type": "code",
   "execution_count": 28,
   "source": [
    "# Now, tweak some hyper parameters and make it train to 1.0 accuracy in 20 epochs or less\n",
    "\n",
    "model = TwoLayerNet(n_input = train_X.shape[1], n_output = 10, hidden_layer_size = 100, reg = 1e-3)\n",
    "dataset = Dataset(train_X[:data_size], train_y[:data_size], val_X[:data_size], val_y[:data_size])\n",
    "# Change any hyperparamers or optimizators to reach training accuracy in 20 epochs\n",
    "#trainer = Trainer(model, dataset, SGD(), learning_rate=1e-1, num_epochs=20, batch_size=5)\n",
    "trainer = Trainer(model, dataset, MomentumSGD(), learning_rate=1e-1, num_epochs=20, batch_size=5)\n",
    "\n",
    "loss_history, train_history, val_history = trainer.fit()"
   ],
   "outputs": [
    {
     "output_type": "stream",
     "name": "stdout",
     "text": [
      "Loss: 2.309268, Train accuracy: 0.200000, val accuracy: 0.066667\n",
      "Loss: 2.308356, Train accuracy: 0.200000, val accuracy: 0.066667\n",
      "Loss: 2.286787, Train accuracy: 0.200000, val accuracy: 0.066667\n",
      "Loss: 2.233444, Train accuracy: 0.200000, val accuracy: 0.066667\n",
      "Loss: 2.299043, Train accuracy: 0.400000, val accuracy: 0.066667\n",
      "Loss: 1.948273, Train accuracy: 0.333333, val accuracy: 0.066667\n",
      "Loss: 1.939316, Train accuracy: 0.400000, val accuracy: 0.000000\n",
      "Loss: 1.680220, Train accuracy: 0.466667, val accuracy: 0.066667\n",
      "Loss: 1.383004, Train accuracy: 0.533333, val accuracy: 0.066667\n",
      "Loss: 1.220973, Train accuracy: 0.666667, val accuracy: 0.066667\n",
      "Loss: 0.740525, Train accuracy: 0.666667, val accuracy: 0.066667\n",
      "Loss: 0.252310, Train accuracy: 0.666667, val accuracy: 0.066667\n",
      "Loss: 0.662013, Train accuracy: 0.733333, val accuracy: 0.000000\n",
      "Loss: 0.255393, Train accuracy: 0.800000, val accuracy: 0.066667\n",
      "Loss: 0.300606, Train accuracy: 0.933333, val accuracy: 0.066667\n",
      "Loss: 0.047881, Train accuracy: 1.000000, val accuracy: 0.066667\n",
      "Loss: 0.171745, Train accuracy: 1.000000, val accuracy: 0.066667\n",
      "Loss: 0.064113, Train accuracy: 1.000000, val accuracy: 0.066667\n",
      "Loss: 0.065613, Train accuracy: 1.000000, val accuracy: 0.066667\n",
      "Loss: 0.068848, Train accuracy: 1.000000, val accuracy: 0.066667\n"
     ]
    }
   ],
   "metadata": {}
  },
  {
   "cell_type": "markdown",
   "source": [
    "# Итак, основное мероприятие!\n",
    "\n",
    "Натренируйте лучшую нейросеть! Можно добавлять и изменять параметры, менять количество нейронов в слоях сети и как угодно экспериментировать. \n",
    "\n",
    "Добейтесь точности лучше **60%** на validation set."
   ],
   "metadata": {}
  },
  {
   "cell_type": "code",
   "execution_count": 187,
   "source": [
    "# Let's train the best one-hidden-layer network we can\n",
    "\n",
    "learning_rates = 3e-2\n",
    "reg_strength = 1e-3\n",
    "learning_rate_decay = 0.99\n",
    "hidden_layer_size = 128\n",
    "num_epochs = 100\n",
    "batch_size = 64\n",
    "\n",
    "best_classifier = None\n",
    "best_val_accuracy = None\n",
    "\n",
    "loss_history = []\n",
    "train_history = []\n",
    "val_history = []\n",
    "\n",
    "model = TwoLayerNet(n_input = train_X.shape[1], n_output = 10, hidden_layer_size = hidden_layer_size, reg = reg_strength)\n",
    "dataset = Dataset(train_X[:data_size], train_y[:data_size], val_X[:data_size], val_y[:data_size])\n",
    "trainer = Trainer(model, dataset, MomentumSGD(0.9), learning_rate=learning_rates, learning_rate_decay=learning_rate_decay, \n",
    "        num_epochs=num_epochs, batch_size=batch_size)\n",
    "\n",
    "loss_history, train_history, val_history = trainer.fit()\n",
    "best_val_accuracy = np.max(val_history)\n",
    "\n",
    "# TODO find the best hyperparameters to train the network\n",
    "# Don't hesitate to add new values to the arrays above, perform experiments, use any tricks you want\n",
    "# You should expect to get to at least 40% of valudation accuracy\n",
    "# Save loss/train/history of the best classifier to the variables above\n",
    "\n",
    "print('best validation accuracy achieved: %f' % best_val_accuracy)"
   ],
   "outputs": [
    {
     "output_type": "stream",
     "name": "stdout",
     "text": [
      "Loss: 2.302287, Train accuracy: 0.200000, val accuracy: 0.133333\n",
      "Loss: 2.301157, Train accuracy: 0.200000, val accuracy: 0.133333\n",
      "Loss: 2.299034, Train accuracy: 0.200000, val accuracy: 0.133333\n",
      "Loss: 2.296006, Train accuracy: 0.200000, val accuracy: 0.133333\n",
      "Loss: 2.292233, Train accuracy: 0.200000, val accuracy: 0.133333\n",
      "Loss: 2.287827, Train accuracy: 0.200000, val accuracy: 0.133333\n",
      "Loss: 2.282896, Train accuracy: 0.200000, val accuracy: 0.133333\n",
      "Loss: 2.277940, Train accuracy: 0.200000, val accuracy: 0.133333\n",
      "Loss: 2.271851, Train accuracy: 0.200000, val accuracy: 0.133333\n",
      "Loss: 2.265888, Train accuracy: 0.200000, val accuracy: 0.133333\n",
      "Loss: 2.260715, Train accuracy: 0.200000, val accuracy: 0.133333\n",
      "Loss: 2.254713, Train accuracy: 0.200000, val accuracy: 0.066667\n",
      "Loss: 2.246970, Train accuracy: 0.200000, val accuracy: 0.066667\n",
      "Loss: 2.242678, Train accuracy: 0.200000, val accuracy: 0.066667\n",
      "Loss: 2.236736, Train accuracy: 0.200000, val accuracy: 0.066667\n",
      "Loss: 2.227241, Train accuracy: 0.200000, val accuracy: 0.066667\n",
      "Loss: 2.220409, Train accuracy: 0.200000, val accuracy: 0.066667\n",
      "Loss: 2.219627, Train accuracy: 0.200000, val accuracy: 0.066667\n",
      "Loss: 2.214244, Train accuracy: 0.200000, val accuracy: 0.066667\n",
      "Loss: 2.198561, Train accuracy: 0.200000, val accuracy: 0.066667\n",
      "Loss: 2.204053, Train accuracy: 0.200000, val accuracy: 0.066667\n",
      "Loss: 2.199262, Train accuracy: 0.200000, val accuracy: 0.133333\n",
      "Loss: 2.194681, Train accuracy: 0.200000, val accuracy: 0.133333\n",
      "Loss: 2.188639, Train accuracy: 0.200000, val accuracy: 0.133333\n",
      "Loss: 2.184284, Train accuracy: 0.266667, val accuracy: 0.066667\n",
      "Loss: 2.179464, Train accuracy: 0.266667, val accuracy: 0.066667\n",
      "Loss: 2.173958, Train accuracy: 0.266667, val accuracy: 0.066667\n",
      "Loss: 2.165947, Train accuracy: 0.333333, val accuracy: 0.066667\n",
      "Loss: 2.154046, Train accuracy: 0.333333, val accuracy: 0.066667\n",
      "Loss: 2.095992, Train accuracy: 0.333333, val accuracy: 0.066667\n",
      "Loss: 2.135319, Train accuracy: 0.333333, val accuracy: 0.066667\n",
      "Loss: 2.053278, Train accuracy: 0.266667, val accuracy: 0.066667\n",
      "Loss: 2.103117, Train accuracy: 0.266667, val accuracy: 0.066667\n",
      "Loss: 2.077934, Train accuracy: 0.200000, val accuracy: 0.066667\n",
      "Loss: 1.963828, Train accuracy: 0.200000, val accuracy: 0.066667\n",
      "Loss: 2.012963, Train accuracy: 0.200000, val accuracy: 0.066667\n",
      "Loss: 1.906282, Train accuracy: 0.200000, val accuracy: 0.066667\n",
      "Loss: 1.975115, Train accuracy: 0.200000, val accuracy: 0.066667\n",
      "Loss: 1.948136, Train accuracy: 0.200000, val accuracy: 0.066667\n",
      "Loss: 1.921998, Train accuracy: 0.200000, val accuracy: 0.066667\n",
      "Loss: 1.900368, Train accuracy: 0.266667, val accuracy: 0.000000\n",
      "Loss: 1.788531, Train accuracy: 0.400000, val accuracy: 0.000000\n",
      "Loss: 1.810426, Train accuracy: 0.400000, val accuracy: 0.000000\n",
      "Loss: 1.707322, Train accuracy: 0.400000, val accuracy: 0.000000\n",
      "Loss: 1.666956, Train accuracy: 0.400000, val accuracy: 0.000000\n",
      "Loss: 1.634801, Train accuracy: 0.400000, val accuracy: 0.000000\n",
      "Loss: 1.608963, Train accuracy: 0.333333, val accuracy: 0.066667\n",
      "Loss: 1.640772, Train accuracy: 0.400000, val accuracy: 0.066667\n",
      "Loss: 1.600937, Train accuracy: 0.400000, val accuracy: 0.066667\n",
      "Loss: 1.533151, Train accuracy: 0.400000, val accuracy: 0.066667\n",
      "Loss: 1.546709, Train accuracy: 0.400000, val accuracy: 0.066667\n",
      "Loss: 1.504408, Train accuracy: 0.400000, val accuracy: 0.066667\n",
      "Loss: 1.492719, Train accuracy: 0.400000, val accuracy: 0.066667\n",
      "Loss: 1.508439, Train accuracy: 0.400000, val accuracy: 0.066667\n",
      "Loss: 1.455694, Train accuracy: 0.466667, val accuracy: 0.066667\n",
      "Loss: 1.469719, Train accuracy: 0.466667, val accuracy: 0.066667\n",
      "Loss: 1.454713, Train accuracy: 0.466667, val accuracy: 0.066667\n",
      "Loss: 1.441563, Train accuracy: 0.466667, val accuracy: 0.000000\n",
      "Loss: 1.360247, Train accuracy: 0.466667, val accuracy: 0.000000\n",
      "Loss: 1.340428, Train accuracy: 0.466667, val accuracy: 0.000000\n",
      "Loss: 1.393940, Train accuracy: 0.533333, val accuracy: 0.000000\n",
      "Loss: 1.305206, Train accuracy: 0.533333, val accuracy: 0.000000\n",
      "Loss: 1.335309, Train accuracy: 0.533333, val accuracy: 0.000000\n",
      "Loss: 1.262064, Train accuracy: 0.600000, val accuracy: 0.000000\n",
      "Loss: 1.261892, Train accuracy: 0.600000, val accuracy: 0.000000\n",
      "Loss: 1.244322, Train accuracy: 0.600000, val accuracy: 0.000000\n",
      "Loss: 1.224545, Train accuracy: 0.600000, val accuracy: 0.000000\n",
      "Loss: 1.212726, Train accuracy: 0.600000, val accuracy: 0.000000\n",
      "Loss: 1.174506, Train accuracy: 0.533333, val accuracy: 0.000000\n",
      "Loss: 1.154447, Train accuracy: 0.600000, val accuracy: 0.000000\n",
      "Loss: 1.127380, Train accuracy: 0.600000, val accuracy: 0.000000\n",
      "Loss: 1.098984, Train accuracy: 0.600000, val accuracy: 0.000000\n",
      "Loss: 1.124913, Train accuracy: 0.600000, val accuracy: 0.000000\n",
      "Loss: 1.114260, Train accuracy: 0.600000, val accuracy: 0.000000\n",
      "Loss: 1.112688, Train accuracy: 0.600000, val accuracy: 0.000000\n",
      "Loss: 1.021032, Train accuracy: 0.600000, val accuracy: 0.000000\n",
      "Loss: 1.004064, Train accuracy: 0.600000, val accuracy: 0.000000\n",
      "Loss: 0.987163, Train accuracy: 0.666667, val accuracy: 0.000000\n",
      "Loss: 0.970607, Train accuracy: 0.666667, val accuracy: 0.000000\n",
      "Loss: 1.022397, Train accuracy: 0.666667, val accuracy: 0.000000\n",
      "Loss: 0.937930, Train accuracy: 0.666667, val accuracy: 0.000000\n",
      "Loss: 0.921707, Train accuracy: 0.666667, val accuracy: 0.000000\n",
      "Loss: 0.905582, Train accuracy: 0.666667, val accuracy: 0.000000\n",
      "Loss: 0.971318, Train accuracy: 0.666667, val accuracy: 0.000000\n",
      "Loss: 0.874207, Train accuracy: 0.733333, val accuracy: 0.000000\n",
      "Loss: 0.947124, Train accuracy: 0.733333, val accuracy: 0.000000\n",
      "Loss: 0.935454, Train accuracy: 0.733333, val accuracy: 0.000000\n",
      "Loss: 0.831102, Train accuracy: 0.733333, val accuracy: 0.000000\n",
      "Loss: 0.916262, Train accuracy: 0.733333, val accuracy: 0.000000\n",
      "Loss: 0.804384, Train accuracy: 0.733333, val accuracy: 0.000000\n",
      "Loss: 0.896412, Train accuracy: 0.733333, val accuracy: 0.000000\n",
      "Loss: 0.873672, Train accuracy: 0.733333, val accuracy: 0.000000\n",
      "Loss: 0.840959, Train accuracy: 0.733333, val accuracy: 0.000000\n",
      "Loss: 0.830388, Train accuracy: 0.733333, val accuracy: 0.000000\n",
      "Loss: 0.806220, Train accuracy: 0.733333, val accuracy: 0.000000\n",
      "Loss: 0.794608, Train accuracy: 0.733333, val accuracy: 0.000000\n",
      "Loss: 0.780138, Train accuracy: 0.733333, val accuracy: 0.000000\n",
      "Loss: 0.764963, Train accuracy: 0.733333, val accuracy: 0.000000\n",
      "Loss: 0.716280, Train accuracy: 0.733333, val accuracy: 0.000000\n",
      "Loss: 0.745914, Train accuracy: 0.733333, val accuracy: 0.000000\n",
      "best validation accuracy achieved: 0.133333\n"
     ]
    }
   ],
   "metadata": {
    "scrolled": true
   }
  },
  {
   "cell_type": "code",
   "execution_count": 188,
   "source": [
    "plt.figure(figsize=(15, 7))\n",
    "plt.subplot(211)\n",
    "plt.title(\"Loss\")\n",
    "plt.plot(loss_history)\n",
    "plt.subplot(212)\n",
    "plt.title(\"Train/validation accuracy\")\n",
    "plt.plot(train_history)\n",
    "plt.plot(val_history)"
   ],
   "outputs": [
    {
     "output_type": "execute_result",
     "data": {
      "text/plain": [
       "[<matplotlib.lines.Line2D at 0x7fb42a8b2438>]"
      ]
     },
     "metadata": {},
     "execution_count": 188
    },
    {
     "output_type": "display_data",
     "data": {
      "text/plain": [
       "<Figure size 1080x504 with 2 Axes>"
      ],
      "image/png": "[encoded data removed]"
     },
     "metadata": {
      "needs_background": "light"
     }
    }
   ],
   "metadata": {}
  },
  {
   "cell_type": "markdown",
   "source": [
    "# Как обычно, посмотрим, как наша лучшая модель работает на тестовых данных"
   ],
   "metadata": {}
  },
  {
   "cell_type": "code",
   "execution_count": null,
   "source": [
    "test_pred = best_classifier.predict(test_X)\n",
    "test_accuracy = multiclass_accuracy(test_pred, test_y)\n",
    "print('Neural net test set accuracy: %f' % (test_accuracy, ))"
   ],
   "outputs": [],
   "metadata": {}
  }
 ],
 "metadata": {
  "kernelspec": {
   "name": "python3",
   "display_name": "Python 3.6.9 64-bit"
  },
  "language_info": {
   "codemirror_mode": {
    "name": "ipython",
    "version": 3
   },
   "file_extension": ".py",
   "mimetype": "text/x-python",
   "name": "python",
   "nbconvert_exporter": "python",
   "pygments_lexer": "ipython3",
   "version": "3.6.9"
  },
  "interpreter": {
   "hash": "31f2aee4e71d21fbe5cf8b01ff0e069b9275f58929596ceb00d14d90e3e16cd6"
  }
 },
 "nbformat": 4,
 "nbformat_minor": 2
}